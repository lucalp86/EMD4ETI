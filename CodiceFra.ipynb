{
 "cells": [
  {
   "cell_type": "markdown",
   "id": "46936687",
   "metadata": {},
   "source": [
    "# Code  Fra "
   ]
  },
  {
   "cell_type": "markdown",
   "id": "9b0ed609",
   "metadata": {},
   "source": [
    "Load packages"
   ]
  },
  {
   "cell_type": "code",
   "execution_count": 6,
   "id": "e41f3763",
   "metadata": {},
   "outputs": [],
   "source": [
    "import numpy as np\n",
    "#import pandas as pd\n",
    "import matplotlib.pyplot as plt\n",
    "from cmcrameri import cm"
   ]
  },
  {
   "cell_type": "markdown",
   "id": "9cee8940",
   "metadata": {},
   "source": [
    "Input Data"
   ]
  },
  {
   "cell_type": "code",
   "execution_count": 7,
   "id": "66e3ccd7",
   "metadata": {},
   "outputs": [],
   "source": [
    "def sampled_ColorMap(clrmap, Num):\n",
    "    Colors_nice = []    \n",
    "    for idx in range(int(Num)):\n",
    "        idx_color = int(np.fix(clrmap.N/Num*idx))\n",
    "        Colors_nice.append(list(clrmap(idx_color))[:3])\n",
    "    return Colors_nice"
   ]
  },
  {
   "cell_type": "code",
   "execution_count": 8,
   "id": "8520bd6b",
   "metadata": {},
   "outputs": [],
   "source": [
    "Label = ['Ctrl', 'INF', 'Spz6/19', 'SPZ17', 'B219', 'B319']\n",
    "Data = [1.0245, 0.6886, 0.045, 0.0138, 0.3935, 0.4332]\n",
    "x_pos = range(len(Data))\n",
    "error = [0.007, 0.004, 0.0002, 8e-5, 4e-3, 3e-3]\n",
    "\n",
    "#clrmap = cm.tofino #\n",
    "clrmap = cm.lisbon #cm.turku\n",
    "clr = sampled_ColorMap(clrmap, len(Data))"
   ]
  },
  {
   "cell_type": "code",
   "execution_count": 11,
   "id": "1941f581",
   "metadata": {},
   "outputs": [
    {
     "data": {
      "image/png": "[encoded data removed]",
      "text/plain": [
       "<Figure size 576x288 with 1 Axes>"
      ]
     },
     "metadata": {
      "needs_background": "light"
     },
     "output_type": "display_data"
    }
   ],
   "source": [
    "plt.figure(figsize = (8, 4))\n",
    "#plt.bar(x_pos, Data, color = ['black', 'red', 'green', 'blue', 'cyan', 'yellow'], width = 0.6)\n",
    "plt.bar(x_pos, Data, color = clr, width = 0.6, yerr = error)\n",
    "plt.xticks(x_pos, Label, fontsize = 18)\n",
    "plt.ylabel('NSA', fontsize = 18)\n",
    "plt.title('ACE2', fontsize = 24)\n",
    "plt.savefig('grafico.tiff')"
   ]
  },
  {
   "cell_type": "code",
   "execution_count": null,
   "id": "29a808ce",
   "metadata": {},
   "outputs": [],
   "source": []
  },
  {
   "cell_type": "code",
   "execution_count": null,
   "id": "4e273072",
   "metadata": {},
   "outputs": [],
   "source": []
  }
 ],
 "metadata": {
  "kernelspec": {
   "display_name": "Python 3",
   "language": "python",
   "name": "python3"
  },
  "language_info": {
   "codemirror_mode": {
    "name": "ipython",
    "version": 3
   },
   "file_extension": ".py",
   "mimetype": "text/x-python",
   "name": "python",
   "nbconvert_exporter": "python",
   "pygments_lexer": "ipython3",
   "version": "3.8.8"
  }
 },
 "nbformat": 4,
 "nbformat_minor": 5
}
